{
  "nbformat": 4,
  "nbformat_minor": 0,
  "metadata": {
    "colab": {
      "name": "Task2_Prediction Using Unsupervised learning.ipynb",
      "provenance": [],
      "collapsed_sections": []
    },
    "kernelspec": {
      "name": "python3",
      "display_name": "Python 3"
    }
  },
  "cells": [
    {
      "cell_type": "markdown",
      "source": [
        "# Importing the libraries"
      ],
      "metadata": {
        "id": "VHE5hsjJqa3g"
      }
    },
    {
      "metadata": {
        "id": "kO_1kOEGDTws"
      },
      "cell_type": "code",
      "source": [
        "import numpy as np\n",
        "import matplotlib.pyplot as plt\n",
        "import pandas as pd\n",
        "from sklearn import datasets\n",
        "from sklearn.cluster import KMeans\n",
        "from sklearn.preprocessing import LabelEncoder"
      ],
      "execution_count": 5,
      "outputs": []
    },
    {
      "cell_type": "markdown",
      "source": [
        "# Load the iris dataset & Encoding it\n"
      ],
      "metadata": {
        "id": "jGJuSI8Aqe9B"
      }
    },
    {
      "cell_type": "code",
      "source": [
        "dataset = pd.read_csv(\"/content/drive/MyDrive/Iris.csv\")\n",
        "labelEncoder = LabelEncoder()\n",
        "labelEncoder.fit(dataset[\"Species\"])\n",
        "dataset[\"Species\"] = labelEncoder.transform(dataset[\"Species\"])"
      ],
      "metadata": {
        "colab": {
          "base_uri": "https://localhost:8080/"
        },
        "id": "i_2glOptashs",
        "outputId": "ccf1aba3-2728-4e25-f09d-8ab2397d1c3c"
      },
      "execution_count": 13,
      "outputs": [
        {
          "output_type": "stream",
          "name": "stdout",
          "text": [
            "     Id  SepalLengthCm  SepalWidthCm  PetalLengthCm  PetalWidthCm  Species\n",
            "0     1            5.1           3.5            1.4           0.2        0\n",
            "1     2            4.9           3.0            1.4           0.2        0\n",
            "2     3            4.7           3.2            1.3           0.2        0\n",
            "3     4            4.6           3.1            1.5           0.2        0\n",
            "4     5            5.0           3.6            1.4           0.2        0\n",
            "..  ...            ...           ...            ...           ...      ...\n",
            "95   96            5.7           3.0            4.2           1.2        1\n",
            "96   97            5.7           2.9            4.2           1.3        1\n",
            "97   98            6.2           2.9            4.3           1.3        1\n",
            "98   99            5.1           2.5            3.0           1.1        1\n",
            "99  100            5.7           2.8            4.1           1.3        1\n",
            "\n",
            "[100 rows x 6 columns]\n"
          ]
        }
      ]
    },
    {
      "cell_type": "markdown",
      "source": [
        "#Mounting google drive"
      ],
      "metadata": {
        "id": "Jg8ooad6qmx3"
      }
    },
    {
      "cell_type": "code",
      "source": [
        "from google.colab import drive\n",
        "drive.mount('/content/drive')"
      ],
      "metadata": {
        "colab": {
          "base_uri": "https://localhost:8080/"
        },
        "id": "LmY3pbMTdKNx",
        "outputId": "be5c0f1b-34ba-48dc-b2c9-571632412ca8"
      },
      "execution_count": 3,
      "outputs": [
        {
          "output_type": "stream",
          "name": "stdout",
          "text": [
            "Mounted at /content/drive\n"
          ]
        }
      ]
    },
    {
      "cell_type": "markdown",
      "source": [
        "# Finding the optimum number of clusters for k-means classification"
      ],
      "metadata": {
        "id": "VBlGNpFUgfYP"
      }
    },
    {
      "cell_type": "code",
      "source": [
        "x = dataset.iloc[:, 1:].values\n",
        "wcss = []\n",
        "for i in range(1, 11):\n",
        "    kmeans = KMeans(n_clusters = i, init = 'k-means++', \n",
        "                    max_iter = 300, n_init = 10, random_state = 0)\n",
        "    kmeans.fit(x)\n",
        "    wcss.append(kmeans.inertia_)"
      ],
      "metadata": {
        "id": "_o6QsZFNgK91"
      },
      "execution_count": 16,
      "outputs": []
    },
    {
      "cell_type": "markdown",
      "source": [
        "# Plotting the results onto a line graph,"
      ],
      "metadata": {
        "id": "n5QsGWTvgsWq"
      }
    },
    {
      "metadata": {
        "id": "WevSKogFEalU",
        "outputId": "02c5d907-f12b-41dd-ac36-a0c0bf3048ee",
        "colab": {
          "base_uri": "https://localhost:8080/",
          "height": 295
        }
      },
      "cell_type": "code",
      "source": [
        "plt.plot(range(1, 11), wcss)\n",
        "plt.title('The elbow method')\n",
        "plt.xlabel('Number of clusters')\n",
        "plt.ylabel('WCSS') \n",
        "plt.show()"
      ],
      "execution_count": 17,
      "outputs": [
        {
          "output_type": "display_data",
          "data": {
            "text/plain": [
              "<Figure size 432x288 with 1 Axes>"
            ],
            "image/png": "[encoded data removed]"
          },
          "metadata": {
            "needs_background": "light"
          }
        }
      ]
    },
    {
      "cell_type": "markdown",
      "source": [
        "# Applying kmeans to the dataset / Creating the kmeans classifier"
      ],
      "metadata": {
        "id": "0o7IQZBVg4Da"
      }
    },
    {
      "metadata": {
        "id": "aJbyXuNGIXI9",
        "colab": {
          "base_uri": "https://localhost:8080/"
        },
        "outputId": "ba2f341b-be2e-49a4-8592-40b8c72a445a"
      },
      "cell_type": "code",
      "source": [
        "kmeans = KMeans(n_clusters=3, init='k-means++', max_iter=300, n_init=10, random_state=1)\n",
        "y_kmeans = kmeans.fit_predict(x)\n",
        "print(y_kmeans)"
      ],
      "execution_count": 33,
      "outputs": [
        {
          "output_type": "stream",
          "name": "stdout",
          "text": [
            "[0 0 0 0 0 0 0 0 0 0 0 0 0 0 0 0 0 0 0 0 0 0 0 0 0 0 0 0 0 0 0 0 0 0 0 0 0\n",
            " 0 0 0 0 0 0 0 0 0 0 0 0 0 2 2 2 2 2 2 2 2 2 2 2 2 2 2 2 2 2 2 2 2 2 2 2 2\n",
            " 2 2 2 2 2 2 2 2 2 2 2 2 2 2 2 2 2 2 2 2 2 2 2 2 2 2 1 1 1 1 1 1 2 1 1 1 1\n",
            " 1 1 1 1 1 1 1 1 1 1 1 1 1 1 1 1 1 1 1 1 1 1 1 1 1 1 1 1 1 1 1 1 1 1 1 1 1\n",
            " 1 1]\n"
          ]
        }
      ]
    },
    {
      "cell_type": "markdown",
      "source": [
        "# Ploting the Cluster\n"
      ],
      "metadata": {
        "id": "-yCUo_H_htTG"
      }
    },
    {
      "metadata": {
        "id": "Q42-XPJjIyXv",
        "outputId": "ffcda5a6-16c5-47d9-84c1-447d81ecc6d5",
        "colab": {
          "base_uri": "https://localhost:8080/",
          "height": 285
        }
      },
      "cell_type": "code",
      "source": [
        "plt.scatter(x[y_kmeans == 0, 0], x[y_kmeans == 0, 1], \n",
        "            s = 100, c = 'red', label = 'Iris-setosa')\n",
        "plt.scatter(x[y_kmeans == 1, 0], x[y_kmeans == 1, 1], \n",
        "            s = 100, c = 'blue', label = 'Iris-versicolour')\n",
        "plt.scatter(x[y_kmeans == 2, 0], x[y_kmeans == 2, 1],\n",
        "            s = 100, c = 'green', label = 'Iris-virginica')\n",
        "\n",
        "plt.scatter(kmeans.cluster_centers_[:, 0], kmeans.cluster_centers_[:,1], \n",
        "            s = 100, c = 'yellow', label = 'Centroids')\n",
        "\n",
        "plt.legend(loc = \"upper left\")"
      ],
      "execution_count": 24,
      "outputs": [
        {
          "output_type": "execute_result",
          "data": {
            "text/plain": [
              "<matplotlib.legend.Legend at 0x7f4ce8d5b990>"
            ]
          },
          "metadata": {},
          "execution_count": 24
        },
        {
          "output_type": "display_data",
          "data": {
            "text/plain": [
              "<Figure size 432x288 with 1 Axes>"
            ],
            "image/png": "[encoded data removed]"
          },
          "metadata": {
            "needs_background": "light"
          }
        }
      ]
    },
    {
      "cell_type": "markdown",
      "source": [
        "#Ploting the clustring state"
      ],
      "metadata": {
        "id": "Z8uAzPUJq1Ej"
      }
    },
    {
      "cell_type": "code",
      "source": [
        "plt.plot(y_kmeans)\n",
        "plt.show()"
      ],
      "metadata": {
        "colab": {
          "base_uri": "https://localhost:8080/",
          "height": 265
        },
        "id": "Vx38B1d8ipbN",
        "outputId": "33fde014-13f5-4baa-db1b-6114f56ed073"
      },
      "execution_count": 45,
      "outputs": [
        {
          "output_type": "display_data",
          "data": {
            "text/plain": [
              "<Figure size 432x288 with 1 Axes>"
            ],
            "image/png": "[encoded data removed]"
          },
          "metadata": {
            "needs_background": "light"
          }
        }
      ]
    }
  ]
}